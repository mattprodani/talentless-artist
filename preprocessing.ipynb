{
  "nbformat": 4,
  "nbformat_minor": 0,
  "metadata": {
    "colab": {
      "name": "preprocessing.ipynb",
      "provenance": [],
      "mount_file_id": "1uX7NFX5rhrReL6xe8Cj6EoqhmNXut7bx",
      "authorship_tag": "ABX9TyNBxfxzNO8Zy/fhizCsWGcg",
      "include_colab_link": true
    },
    "kernelspec": {
      "name": "python3",
      "display_name": "Python 3"
    },
    "language_info": {
      "name": "python"
    }
  },
  "cells": [
    {
      "cell_type": "markdown",
      "metadata": {
        "id": "view-in-github",
        "colab_type": "text"
      },
      "source": [
        "<a href=\"https://colab.research.google.com/github/mattprodani/talentless-artist/blob/main/preprocessing.ipynb\" target=\"_parent\"><img src=\"https://colab.research.google.com/assets/colab-badge.svg\" alt=\"Open In Colab\"/></a>"
      ]
    },
    {
      "cell_type": "markdown",
      "source": [
        "Resizing images from dataset at: ---- link here ----"
      ],
      "metadata": {
        "id": "wLpw-_uXo1OT"
      }
    },
    {
      "cell_type": "code",
      "source": [
        "# DATASET CREDITS ikarus777 - https://www.kaggle.com/ikarus777/best-artworks-of-all-time and artchallenge.ru"
      ],
      "metadata": {
        "id": "JWS2eniC0Jgf"
      },
      "execution_count": null,
      "outputs": []
    },
    {
      "cell_type": "code",
      "execution_count": 1,
      "metadata": {
        "id": "DL78lMlYk4ZR"
      },
      "outputs": [],
      "source": [
        "import os\n",
        "import zipfile"
      ]
    },
    {
      "cell_type": "code",
      "source": [
        "import cv2\n",
        "import matplotlib.pyplot as plt\n",
        "import numpy as np"
      ],
      "metadata": {
        "id": "uxs8NT4GvSzv"
      },
      "execution_count": 6,
      "outputs": []
    },
    {
      "cell_type": "markdown",
      "source": [
        "StyleGAN supports 512x512 and 1024x1024 out of the box.\n",
        "\n",
        "Test 1: Images are not cropped and aliasing is left automatic through OpenCV, images will be skewed. At 512x512"
      ],
      "metadata": {
        "id": "0ICP3UibzhIh"
      }
    },
    {
      "cell_type": "code",
      "source": [
        "INPUT_DIR = \"kaggle/images/images/\"\n",
        "OUTPUT_DIR = \"output/\"\n",
        "DIMS = (512, 512)\n",
        "\n",
        "for artist in os.listdir(INPUT_DIR):\n",
        "  os.mkdir(\"output/\" + artist)\n",
        "  for name in os.listdir(INPUT_DIR + artist):\n",
        "    raw = cv2.imread(INPUT_DIR + artist + \"/\" + name)\n",
        "    out = cv2.resize(raw, (512,512))\n",
        "    cv2.imwrite(OUTPUT_DIR + artist + \"/\" + name, out)\n"
      ],
      "metadata": {
        "id": "JgH8zCuSyRPV"
      },
      "execution_count": 58,
      "outputs": []
    }
  ]
}